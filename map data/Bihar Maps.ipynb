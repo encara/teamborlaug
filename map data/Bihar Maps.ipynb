{
 "cells": [
  {
   "cell_type": "markdown",
   "metadata": {
    "slideshow": {
     "slide_type": "subslide"
    }
   },
   "source": [
    "# Bihar Maps"
   ]
  },
  {
   "cell_type": "code",
   "execution_count": null,
   "metadata": {},
   "outputs": [],
   "source": [
    "# load libraries\n",
    "!pip install pyarrow\n",
    "import pandas as pd\n",
    "import numpy as np\n",
    "import matplotlib.pyplot as plt\n",
    "import geopandas as gpd\n",
    "from pathlib import Path\n",
    "from matplotlib.ticker import FuncFormatter"
   ]
  },
  {
   "cell_type": "code",
   "execution_count": null,
   "metadata": {},
   "outputs": [],
   "source": [
    "# load and view our geopandas dataframe\n",
    "file_path = Path('india_2011_district.shp')\n",
    "geo_df = gpd.read_file(file_path)\n",
    "\n",
    "# filter for Bihar\n",
    "geo_df = geo_df[geo_df['st_nm'] == \"Bihar\"]\n",
    "\n",
    "# now let's preview what our map looks like with no data in it\n",
    "geo_df.plot()"
   ]
  },
  {
   "cell_type": "code",
   "execution_count": null,
   "metadata": {},
   "outputs": [],
   "source": [
    "# clean data\n",
    "geo_df.drop(['cartodb_id','censuscode','dt_cen_cd','st_cen_cd','st_nm'],axis=1,inplace=True)\n",
    "geo_df['district'] = geo_df['district'].str.upper()\n",
    "geo_df.sort_values(by='district',inplace=True)\n",
    "geo_df.rename({'district':'District'},axis=1,inplace=True)\n",
    "geo_df.set_index(\"District\",inplace=True)\n",
    "geo_df.head()"
   ]
  },
  {
   "cell_type": "code",
   "execution_count": null,
   "metadata": {
    "scrolled": false
   },
   "outputs": [],
   "source": [
    "# load in new csv file\n",
    "file_path = Path('nss_bihar.csv')\n",
    "demo_df = pd.read_csv(file_path)\n",
    "\n",
    "# clean data\n",
    "demo_df['District'] = demo_df['District'].str.upper()\n",
    "demo_df.drop(\"Unnamed: 0\", axis=1, inplace=True)\n",
    "demo_df = demo_df[['HHID','District','hh_size','rural_urban','Religion']]\n",
    "demo_df"
   ]
  },
  {
   "cell_type": "markdown",
   "metadata": {},
   "source": [
    "## Mean Household Size\n",
    "\n",
    "This section creates a cloropleth map of the mean household size by district in Bihar."
   ]
  },
  {
   "cell_type": "code",
   "execution_count": null,
   "metadata": {},
   "outputs": [],
   "source": [
    "# aggregate by district\n",
    "df_hhsize = demo_df.groupby(['District'])['hh_size'].mean().to_frame()\n",
    "df_hhsize.head()"
   ]
  },
  {
   "cell_type": "code",
   "execution_count": null,
   "metadata": {},
   "outputs": [],
   "source": [
    "# check that length of data matches\n",
    "len(df_hhsize.index) == len(geo_df.index)"
   ]
  },
  {
   "cell_type": "code",
   "execution_count": null,
   "metadata": {},
   "outputs": [],
   "source": [
    "#check data types are the same before merging\n",
    "df_hhsize.dtypes"
   ]
  },
  {
   "cell_type": "code",
   "execution_count": null,
   "metadata": {},
   "outputs": [],
   "source": [
    "#check data types are the same before merging\n",
    "geo_df.dtypes"
   ]
  },
  {
   "cell_type": "code",
   "execution_count": null,
   "metadata": {},
   "outputs": [],
   "source": [
    "# join the geodataframe with the cleaned up csv dataframe\n",
    "merged = geo_df.join(df_hhsize)\n",
    "merged = gpd.GeoDataFrame(merged)\n",
    "merged.head()"
   ]
  },
  {
   "cell_type": "code",
   "execution_count": null,
   "metadata": {
    "scrolled": true
   },
   "outputs": [],
   "source": [
    "# # Categorical\n",
    "# gb_merged = merged.groupby(['District'])['Religion'].value_counts(normalize=True).to_frame(name = 'islam_pct').reset_index()\n",
    "# gb_merged = gb_merged.set_index('District')\n",
    "# gb_merged.head(100)\n",
    "\n",
    "# Numeric\n",
    "# gb_merged = merged.groupby(['District'])['hh_size'].mean().to_frame(name = 'Mean Household Size').reset_index()\n",
    "# gb_merged = gb_merged.set_index('District')\n",
    "# gb_merged.head(100)"
   ]
  },
  {
   "cell_type": "code",
   "execution_count": null,
   "metadata": {},
   "outputs": [],
   "source": [
    "merged.dtypes"
   ]
  },
  {
   "cell_type": "code",
   "execution_count": null,
   "metadata": {},
   "outputs": [],
   "source": [
    "merged['hh_size'].max()"
   ]
  },
  {
   "cell_type": "code",
   "execution_count": null,
   "metadata": {},
   "outputs": [],
   "source": [
    "# set a variable that will call whatever column we want to visualise on the map\n",
    "variable = 'hh_size'\n",
    "\n",
    "# set the range for the choropleth\n",
    "vmin, vmax = 0, 6\n",
    "\n",
    "# create figure and axes for Matplotlib\n",
    "fig, ax = plt.subplots(1, figsize=(10, 6))\n",
    "\n",
    "# create map\n",
    "merged.plot(column=variable, cmap='YlGnBu', linewidth=0.5, ax=ax, edgecolor='0.0')\n",
    "\n",
    "# Now we can customise and add annotations\n",
    "\n",
    "# remove the axis\n",
    "ax.axis('off')\n",
    "\n",
    "# add a title\n",
    "ax.set_title('Mean Household Size', \\\n",
    "              fontdict={'fontsize': '20',\n",
    "                        'fontweight' : '3'})\n",
    "\n",
    "# create an annotation for the  data source\n",
    "ax.annotate('Sources: http://www.microdata.gov.in/NADA43/index.php/catalog/126/related_materials (Statistics)\\nMIT GeoWeb Data (ESRI Shapefile)',\n",
    "           xy=(0.1, .08), xycoords='figure fraction',\n",
    "           horizontalalignment='left', verticalalignment='top',\n",
    "           fontsize=10, color='#555555')\n",
    "\n",
    "# Create colorbar as a legend\n",
    "sm = plt.cm.ScalarMappable(cmap='YlGnBu', norm=plt.Normalize(vmin=vmin, vmax=vmax))\n",
    "sm._A = []\n",
    "comma_fmt = FuncFormatter(lambda x, p: format(int(x), ','))\n",
    "cbar = fig.colorbar(sm, format=comma_fmt)\n",
    "#cbar.ax.set_title('Thousands') #for horizontal label\n",
    "cbar.set_label('Mean Household Size')\n",
    "\n",
    "# this will save the figure as a high-res png. \n",
    "fig.savefig('hh_size.png', dpi=300)\n"
   ]
  },
  {
   "cell_type": "markdown",
   "metadata": {},
   "source": [
    "## Religion Percentage\n",
    "\n",
    "This section creates a cloropleth map of the proportion of Muslim households by district in Bihar."
   ]
  },
  {
   "cell_type": "code",
   "execution_count": null,
   "metadata": {},
   "outputs": [],
   "source": [
    "# aggregate by district\n",
    "df_religion = demo_df.groupby(['District'])['Religion'].value_counts(normalize=True).to_frame(name = 'Percentage').reset_index()\n",
    "df_religion = df_religion.set_index('District')\n",
    "\n",
    "# filter for Hinduism\n",
    "df_religion = df_religion[df_religion['Religion'] == \"Hinduism\"]\n",
    "df_religion.head()"
   ]
  },
  {
   "cell_type": "code",
   "execution_count": null,
   "metadata": {},
   "outputs": [],
   "source": [
    "# check that length of data matches\n",
    "len(df_religion.index) == len(geo_df.index)"
   ]
  },
  {
   "cell_type": "code",
   "execution_count": null,
   "metadata": {},
   "outputs": [],
   "source": [
    "#check data types are the same before merging\n",
    "df_religion.dtypes"
   ]
  },
  {
   "cell_type": "code",
   "execution_count": null,
   "metadata": {},
   "outputs": [],
   "source": [
    "#check data types are the same before merging\n",
    "geo_df.dtypes"
   ]
  },
  {
   "cell_type": "code",
   "execution_count": null,
   "metadata": {},
   "outputs": [],
   "source": [
    "# join the geodataframe with the cleaned up csv dataframe\n",
    "merged_religion = geo_df.join(df_religion)\n",
    "merged_religion = gpd.GeoDataFrame(merged_religion)\n",
    "merged_religion.head()"
   ]
  },
  {
   "cell_type": "code",
   "execution_count": null,
   "metadata": {},
   "outputs": [],
   "source": [
    "# Categorical\n",
    "\n",
    "# set a variable that will call whatever column we want to visualise on the map\n",
    "variable = 'Percentage'\n",
    "\n",
    "vmin, vmax = 0, 100\n",
    "\n",
    "# create figure and axes for Matplotlib\n",
    "fig, ax = plt.subplots(1, figsize=(10, 6))\n",
    "\n",
    "# create map\n",
    "merged_religion.plot(column=variable, categorical=False,cmap='Blues', linewidth=0.6, ax=ax, edgecolor='0.2', legend=True)\n",
    "\n",
    "# Now we can customise and add annotations\n",
    "\n",
    "# ax.legend(loc='lower right',\n",
    "#       fontsize=15,\n",
    "#       frameon=True)\n",
    "\n",
    "# remove the axis\n",
    "ax.axis('off')\n",
    "\n",
    "# # add a title\n",
    "ax.set_title('Percent Hindu Population', \\\n",
    "               fontdict={'fontsize': '20',\n",
    "                         'fontweight' : '3'})\n",
    "\n",
    "# create an annotation for the  data source\n",
    "ax.annotate('Sources: \\nwww.census2011.co.in/census/state/districtlist/maharashtra.html (Statistics)\\nMIT GeoWeb Data (ESRI Shapefile)',\n",
    "            xy=(0.1, .08), xycoords='figure fraction',\n",
    "           horizontalalignment='left', verticalalignment='top',\n",
    "            fontsize=10, color='#555555')\n",
    "\n",
    "# Create colorbar as a legend\n",
    "# sm = plt.cm.ScalarMappable(cmap='Blues')\n",
    "# sm._A = []\n",
    "# comma_fmt = FuncFormatter(lambda x, p: format(int(x), ','))\n",
    "# cbar = fig.colorbar(sm, format=comma_fmt)\n",
    "# cbar.ax.set_title('Thousands') #for horizontal label\n",
    "# cbar.set_label('Total Per Capita Household Expenditures')\n",
    "               \n",
    "# this will save the figure as a high-res png. \n",
    "fig.savefig('religion.png', dpi=300)"
   ]
  },
  {
   "cell_type": "markdown",
   "metadata": {},
   "source": [
    "## Rural-Urban Percentage"
   ]
  },
  {
   "cell_type": "code",
   "execution_count": null,
   "metadata": {},
   "outputs": [],
   "source": [
    "# aggregate by district\n",
    "df_urban = demo_df.groupby(['District'])['rural_urban'].value_counts(normalize=True).to_frame(name = 'Percentage').reset_index()\n",
    "df_urban = df_urban.set_index('District')\n",
    "\n",
    "# filter for Hinduism\n",
    "df_urban = df_urban[df_urban['rural_urban'] == \"urban\"]\n",
    "df_urban.head()"
   ]
  },
  {
   "cell_type": "code",
   "execution_count": null,
   "metadata": {},
   "outputs": [],
   "source": [
    "# check that length of data matches\n",
    "len(df_urban.index) == len(geo_df.index)"
   ]
  },
  {
   "cell_type": "code",
   "execution_count": null,
   "metadata": {},
   "outputs": [],
   "source": [
    "# join the geodataframe with the cleaned up csv dataframe\n",
    "merged_urban = geo_df.join(df_urban)\n",
    "merged_urban  = gpd.GeoDataFrame(merged_urban)\n",
    "merged_urban.head()"
   ]
  },
  {
   "cell_type": "code",
   "execution_count": null,
   "metadata": {},
   "outputs": [],
   "source": [
    "# Categorical\n",
    "\n",
    "# set a variable that will call whatever column we want to visualise on the map\n",
    "variable = 'Percentage'\n",
    "\n",
    "vmin, vmax = 0, 100\n",
    "\n",
    "# create figure and axes for Matplotlib\n",
    "fig, ax = plt.subplots(1, figsize=(10, 6))\n",
    "\n",
    "# create map\n",
    "merged_urban.plot(column=variable, categorical=False,cmap='Blues', linewidth=0.6, ax=ax, edgecolor='0.2', legend=True)\n",
    "\n",
    "# Now we can customise and add annotations\n",
    "\n",
    "# ax.legend(loc='lower right',\n",
    "#       fontsize=15,\n",
    "#       frameon=True)\n",
    "\n",
    "# remove the axis\n",
    "ax.axis('off')\n",
    "\n",
    "# # add a title\n",
    "ax.set_title('Percent Urban Population', \\\n",
    "               fontdict={'fontsize': '20',\n",
    "                         'fontweight' : '3'})\n",
    "\n",
    "# create an annotation for the  data source\n",
    "ax.annotate('Sources: \\nwww.census2011.co.in/census/state/districtlist/maharashtra.html (Statistics)\\nMIT GeoWeb Data (ESRI Shapefile)',\n",
    "            xy=(0.1, .08), xycoords='figure fraction',\n",
    "           horizontalalignment='left', verticalalignment='top',\n",
    "            fontsize=10, color='#555555')\n",
    "\n",
    "# # Create colorbar as a legend\n",
    "# sm = plt.cm.ScalarMappable(cmap='Blues')\n",
    "# sm._A = []\n",
    "# comma_fmt = FuncFormatter(lambda x, p: format(int(x), ','))\n",
    "# cbar = fig.colorbar(sm, format=comma_fmt)\n",
    "# cbar.ax.set_title('Thousands') #for horizontal label\n",
    "# cbar.set_label('Total Per Capita Household Expenditures')\n",
    "               \n",
    "# this will save the figure as a high-res png. \n",
    "fig.savefig('ruralurban.png', dpi=300)"
   ]
  },
  {
   "cell_type": "markdown",
   "metadata": {},
   "source": [
    "## Mean Fruit Consumption"
   ]
  },
  {
   "cell_type": "code",
   "execution_count": null,
   "metadata": {},
   "outputs": [],
   "source": [
    "# load in new csv file\n",
    "file_path = Path('qhat.csv')\n",
    "qhat_df = pd.read_csv(file_path)\n",
    "qhat_df.columns"
   ]
  },
  {
   "cell_type": "code",
   "execution_count": null,
   "metadata": {},
   "outputs": [],
   "source": [
    "qhat_df = qhat_df[['j','apple','guava','potato']]\n",
    "qhat_df"
   ]
  },
  {
   "cell_type": "code",
   "execution_count": null,
   "metadata": {},
   "outputs": [],
   "source": [
    "# create a household-district map using NSS data\n",
    "hh_dist_map = demo_df.set_index('HHID')\n",
    "hh_dist_map = hh_dist_map[['District']]\n",
    "hh_dist_map = hh_dist_map['District'].to_dict()"
   ]
  },
  {
   "cell_type": "code",
   "execution_count": null,
   "metadata": {},
   "outputs": [],
   "source": [
    "qhat_df['district'] = qhat_df['j'].map(hh_dist_map)\n",
    "qhat_df"
   ]
  },
  {
   "cell_type": "code",
   "execution_count": null,
   "metadata": {},
   "outputs": [],
   "source": [
    "# aggregate apple by district\n",
    "apple_df = qhat_df.groupby(['district'])['apple'].mean().to_frame()\n",
    "apple_df['apple'] = apple_df['apple']/1000\n",
    "apple_df.head()"
   ]
  },
  {
   "cell_type": "code",
   "execution_count": null,
   "metadata": {},
   "outputs": [],
   "source": [
    "# aggregate guava by district\n",
    "guava_df = qhat_df.groupby(['district'])['guava'].mean().to_frame()\n",
    "guava_df['guava'] = guava_df['guava']/1000\n",
    "guava_df.head()"
   ]
  },
  {
   "cell_type": "code",
   "execution_count": null,
   "metadata": {},
   "outputs": [],
   "source": [
    "# aggregate tomato by district\n",
    "potato_df = qhat_df.groupby(['district'])['potato'].mean().to_frame()\n",
    "potato_df['potato'] = potato_df['potato']/1000\n",
    "potato_df.head()"
   ]
  },
  {
   "cell_type": "code",
   "execution_count": null,
   "metadata": {},
   "outputs": [],
   "source": [
    "# check that length of data matches\n",
    "len(potato_df.index) == len(geo_df.index)"
   ]
  },
  {
   "cell_type": "code",
   "execution_count": null,
   "metadata": {},
   "outputs": [],
   "source": [
    "# check that length of data matches\n",
    "len(guava_df.index) == len(geo_df.index)"
   ]
  },
  {
   "cell_type": "code",
   "execution_count": null,
   "metadata": {},
   "outputs": [],
   "source": [
    "# check that length of data matches\n",
    "len(potato_df.index) == len(geo_df.index)"
   ]
  },
  {
   "cell_type": "code",
   "execution_count": null,
   "metadata": {
    "scrolled": true
   },
   "outputs": [],
   "source": [
    "# join the geodataframe with the cleaned up csv dataframe\n",
    "merged_apple = geo_df.join(apple_df)\n",
    "merged_apple = gpd.GeoDataFrame(merged_apple)\n",
    "merged_apple.head()"
   ]
  },
  {
   "cell_type": "code",
   "execution_count": null,
   "metadata": {},
   "outputs": [],
   "source": [
    "merged_apple['apple'].max()"
   ]
  },
  {
   "cell_type": "code",
   "execution_count": null,
   "metadata": {},
   "outputs": [],
   "source": [
    "# set a variable that will call whatever column we want to visualise on the map\n",
    "variable = 'apple'\n",
    "\n",
    "# set the range for the choropleth\n",
    "vmin, vmax = 0, 1.5\n",
    "\n",
    "# create figure and axes for Matplotlib\n",
    "fig, ax = plt.subplots(1, figsize=(10, 6))\n",
    "\n",
    "# create map\n",
    "merged_apple.plot(column=variable, cmap='YlGnBu', linewidth=0.5, ax=ax, edgecolor='0.0')\n",
    "\n",
    "# Now we can customise and add annotations\n",
    "\n",
    "# remove the axis\n",
    "ax.axis('off')\n",
    "\n",
    "# add a title\n",
    "ax.set_title('Mean Monthly Apple Consumption', \\\n",
    "              fontdict={'fontsize': '20',\n",
    "                        'fontweight' : '3'})\n",
    "\n",
    "# create an annotation for the  data source\n",
    "ax.annotate('Sources: http://www.microdata.gov.in/NADA43/index.php/catalog/126/related_materials (Statistics)\\nMIT GeoWeb Data (ESRI Shapefile)',\n",
    "           xy=(0.1, .08), xycoords='figure fraction',\n",
    "           horizontalalignment='left', verticalalignment='top',\n",
    "           fontsize=10, color='#555555')\n",
    "\n",
    "# Create colorbar as a legend\n",
    "sm = plt.cm.ScalarMappable(cmap='YlGnBu', norm=plt.Normalize(vmin=vmin, vmax=vmax))\n",
    "sm._A = []\n",
    "comma_fmt = FuncFormatter(lambda x, p: format(round(x,4), ','))\n",
    "cbar = fig.colorbar(sm, format=comma_fmt)\n",
    "#cbar.ax.set_title('Thousands') #for horizontal label\n",
    "cbar.set_label('Mean Apple Consumption (kg per Month)')\n",
    "\n",
    "# this will save the figure as a high-res png. \n",
    "fig.savefig('apple.png', dpi=600, facecolor='white', transparent=False)"
   ]
  },
  {
   "cell_type": "code",
   "execution_count": null,
   "metadata": {},
   "outputs": [],
   "source": [
    "# join the geodataframe with the cleaned up csv dataframe\n",
    "merged_guava = geo_df.join(guava_df)\n",
    "merged_guava = gpd.GeoDataFrame(merged_guava)\n",
    "merged_guava.head()"
   ]
  },
  {
   "cell_type": "code",
   "execution_count": null,
   "metadata": {},
   "outputs": [],
   "source": [
    "merged_guava['guava'].max()"
   ]
  },
  {
   "cell_type": "code",
   "execution_count": null,
   "metadata": {},
   "outputs": [],
   "source": [
    "# set a variable that will call whatever column we want to visualise on the map\n",
    "variable = 'guava'\n",
    "\n",
    "# set the range for the choropleth\n",
    "vmin, vmax = 0, 1.5\n",
    "\n",
    "# create figure and axes for Matplotlib\n",
    "fig, ax = plt.subplots(1, figsize=(10, 6))\n",
    "\n",
    "# create map\n",
    "merged_guava.plot(column=variable, cmap='YlGnBu', linewidth=0.5, ax=ax, edgecolor='0.0')\n",
    "\n",
    "# Now we can customise and add annotations\n",
    "\n",
    "# remove the axis\n",
    "ax.axis('off')\n",
    "\n",
    "# add a title\n",
    "ax.set_title('Mean Monthly Guava Consumption', \\\n",
    "              fontdict={'fontsize': '20',\n",
    "                        'fontweight' : '3'})\n",
    "\n",
    "# create an annotation for the  data source\n",
    "ax.annotate('Sources: http://www.microdata.gov.in/NADA43/index.php/catalog/126/related_materials (Statistics)\\nMIT GeoWeb Data (ESRI Shapefile)',\n",
    "           xy=(0.1, .08), xycoords='figure fraction',\n",
    "           horizontalalignment='left', verticalalignment='top',\n",
    "           fontsize=10, color='#555555')\n",
    "\n",
    "# Create colorbar as a legend\n",
    "sm = plt.cm.ScalarMappable(cmap='YlGnBu', norm=plt.Normalize(vmin=vmin, vmax=vmax))\n",
    "sm._A = []\n",
    "comma_fmt = FuncFormatter(lambda x, p: format(round(x,2), ','))\n",
    "cbar = fig.colorbar(sm, format=comma_fmt)\n",
    "#cbar.ax.set_title('Thousands') #for horizontal label\n",
    "cbar.set_label('Mean Guava Consumption (kg per Month)')\n",
    "\n",
    "# this will save the figure as a high-res png. \n",
    "fig.savefig('guava.png', dpi=600, facecolor='white', transparent=False)"
   ]
  },
  {
   "cell_type": "code",
   "execution_count": null,
   "metadata": {},
   "outputs": [],
   "source": [
    "# join the geodataframe with the cleaned up csv dataframe\n",
    "merged_potato = geo_df.join(potato_df)\n",
    "merged_potato = gpd.GeoDataFrame(merged_potato)\n",
    "merged_potato.head()"
   ]
  },
  {
   "cell_type": "code",
   "execution_count": null,
   "metadata": {},
   "outputs": [],
   "source": [
    "merged_potato['potato'].max()"
   ]
  },
  {
   "cell_type": "code",
   "execution_count": null,
   "metadata": {},
   "outputs": [],
   "source": [
    "# set a variable that will call whatever column we want to visualise on the map\n",
    "variable = 'potato'\n",
    "\n",
    "# set the range for the choropleth\n",
    "vmin, vmax = 0, 15\n",
    "\n",
    "# create figure and axes for Matplotlib\n",
    "fig, ax = plt.subplots(1, figsize=(10, 6))\n",
    "\n",
    "# create map\n",
    "merged_potato.plot(column=variable, cmap='YlGnBu', linewidth=0.5, ax=ax, edgecolor='0.0')\n",
    "\n",
    "# Now we can customise and add annotations\n",
    "\n",
    "# remove the axis\n",
    "ax.axis('off')\n",
    "\n",
    "# add a title\n",
    "ax.set_title('Mean Monthly Potato Consumption', \\\n",
    "              fontdict={'fontsize': '20',\n",
    "                        'fontweight' : '3'})\n",
    "\n",
    "# create an annotation for the  data source\n",
    "ax.annotate('Sources: http://www.microdata.gov.in/NADA43/index.php/catalog/126/related_materials (Statistics)\\nMIT GeoWeb Data (ESRI Shapefile)',\n",
    "           xy=(0.1, .08), xycoords='figure fraction',\n",
    "           horizontalalignment='left', verticalalignment='top',\n",
    "           fontsize=10, color='#555555')\n",
    "\n",
    "# Create colorbar as a legend\n",
    "sm = plt.cm.ScalarMappable(cmap='YlGnBu', norm=plt.Normalize(vmin=vmin, vmax=vmax))\n",
    "sm._A = []\n",
    "comma_fmt = FuncFormatter(lambda x, p: format(round(x,2), ','))\n",
    "cbar = fig.colorbar(sm, format=comma_fmt)\n",
    "#cbar.ax.set_title('Thousands') #for horizontal label\n",
    "cbar.set_label('Mean Potato Consumption (kg per Month)')\n",
    "\n",
    "# this will save the figure as a high-res png. \n",
    "fig.savefig('potato.png', dpi=600, facecolor='white', transparent=False)"
   ]
  },
  {
   "cell_type": "markdown",
   "metadata": {},
   "source": [
    "## Household Nutrition"
   ]
  },
  {
   "cell_type": "code",
   "execution_count": null,
   "metadata": {},
   "outputs": [],
   "source": [
    "# load in new csv file\n",
    "file_path = Path('hh_nutrition.csv')\n",
    "n_df = pd.read_csv(file_path)\n",
    "n_df"
   ]
  },
  {
   "cell_type": "code",
   "execution_count": null,
   "metadata": {},
   "outputs": [],
   "source": [
    "n_df['district'] = n_df['j'].map(hh_dist_map)\n",
    "n_df = n_df[['j','Ascorbic Acid','district']]\n",
    "n_df"
   ]
  },
  {
   "cell_type": "code",
   "execution_count": null,
   "metadata": {},
   "outputs": [],
   "source": [
    "# aggregate Vitamin C by district\n",
    "n_df = n_df.groupby(['district'])['Ascorbic Acid'].mean().to_frame()\n",
    "n_df.head()"
   ]
  },
  {
   "cell_type": "code",
   "execution_count": null,
   "metadata": {},
   "outputs": [],
   "source": [
    "# check that length of data matches\n",
    "len(n_df.index) == len(geo_df.index)"
   ]
  },
  {
   "cell_type": "code",
   "execution_count": null,
   "metadata": {},
   "outputs": [],
   "source": [
    "# join the geodataframe with the cleaned up csv dataframe\n",
    "merged_n = geo_df.join(n_df)\n",
    "merged_n = gpd.GeoDataFrame(merged_n)\n",
    "merged_n.head()"
   ]
  },
  {
   "cell_type": "code",
   "execution_count": null,
   "metadata": {},
   "outputs": [],
   "source": [
    "merged_n['Ascorbic Acid'] = merged_n['Ascorbic Acid'] * 30"
   ]
  },
  {
   "cell_type": "code",
   "execution_count": null,
   "metadata": {},
   "outputs": [],
   "source": [
    "merged_n['Ascorbic Acid'].max()"
   ]
  },
  {
   "cell_type": "code",
   "execution_count": null,
   "metadata": {},
   "outputs": [],
   "source": [
    "# set a variable that will call whatever column we want to visualise on the map\n",
    "variable = 'Ascorbic Acid'\n",
    "\n",
    "# set the range for the choropleth\n",
    "vmin, vmax = 0, 8000\n",
    "\n",
    "# create figure and axes for Matplotlib\n",
    "fig, ax = plt.subplots(1, figsize=(10, 6))\n",
    "\n",
    "# create map\n",
    "merged_n.plot(column=variable, cmap='YlGnBu', linewidth=0.5, ax=ax, edgecolor='0.0')\n",
    "\n",
    "# Now we can customise and add annotations\n",
    "\n",
    "# remove the axis\n",
    "ax.axis('off')\n",
    "\n",
    "# add a title\n",
    "ax.set_title('Mean Recommended Vitamin C per Household', \\\n",
    "              fontdict={'fontsize': '20',\n",
    "                        'fontweight' : '3'})\n",
    "\n",
    "# create an annotation for the  data source\n",
    "ax.annotate('Sources: http://www.microdata.gov.in/NADA43/index.php/catalog/126/related_materials (Statistics)\\nMIT GeoWeb Data (ESRI Shapefile)',\n",
    "           xy=(0.1, .08), xycoords='figure fraction',\n",
    "           horizontalalignment='left', verticalalignment='top',\n",
    "           fontsize=10, color='#555555')\n",
    "\n",
    "# Create colorbar as a legend\n",
    "sm = plt.cm.ScalarMappable(cmap='YlGnBu', norm=plt.Normalize(vmin=vmin, vmax=vmax))\n",
    "sm._A = []\n",
    "comma_fmt = FuncFormatter(lambda x, p: format(int(x), ','))\n",
    "cbar = fig.colorbar(sm, format=comma_fmt)\n",
    "#cbar.ax.set_title('Thousands') #for horizontal label\n",
    "cbar.set_label('Vitamin C (mg per month)')\n",
    "\n",
    "ax.set_facecolor('w')\n",
    "\n",
    "# this will save the figure as a high-res png. \n",
    "fig.savefig('vitaminc_recs.png', dpi=600, facecolor='white', transparent=False)"
   ]
  },
  {
   "cell_type": "markdown",
   "metadata": {},
   "source": [
    "## Actual Consumption"
   ]
  },
  {
   "cell_type": "code",
   "execution_count": null,
   "metadata": {},
   "outputs": [],
   "source": [
    "# load in new csv file\n",
    "file_path = Path('actual_consumption.csv')\n",
    "consumption_df = pd.read_csv(file_path)\n",
    "print(consumption_df.columns.tolist())"
   ]
  },
  {
   "cell_type": "code",
   "execution_count": null,
   "metadata": {},
   "outputs": [],
   "source": [
    "consumption_df['district'] = consumption_df['j'].map(hh_dist_map)\n",
    "consumption_df.rename(columns={'Vitamin C, total ascorbic acid': 'Vitamin C'}, inplace=True)\n",
    "consumption_df = consumption_df[['j','Vitamin C','district']]\n",
    "consumption_df"
   ]
  },
  {
   "cell_type": "code",
   "execution_count": null,
   "metadata": {},
   "outputs": [],
   "source": [
    "# aggregate apple by district\n",
    "vitc_df = consumption_df.groupby(['district'])['Vitamin C'].mean().to_frame()\n",
    "vitc_df"
   ]
  },
  {
   "cell_type": "code",
   "execution_count": null,
   "metadata": {},
   "outputs": [],
   "source": [
    "# check that length of data matches\n",
    "len(vitc_df.index) == len(geo_df.index)"
   ]
  },
  {
   "cell_type": "code",
   "execution_count": null,
   "metadata": {},
   "outputs": [],
   "source": [
    "# join the geodataframe with the cleaned up csv dataframe\n",
    "merged_vitc = geo_df.join(vitc_df)\n",
    "merged_vitc = gpd.GeoDataFrame(merged_vitc)\n",
    "merged_vitc.head()"
   ]
  },
  {
   "cell_type": "code",
   "execution_count": null,
   "metadata": {},
   "outputs": [],
   "source": [
    "merged_vitc['Vitamin C'].max()"
   ]
  },
  {
   "cell_type": "code",
   "execution_count": null,
   "metadata": {},
   "outputs": [],
   "source": [
    "# set a variable that will call whatever column we want to visualise on the map\n",
    "variable = 'Vitamin C'\n",
    "\n",
    "# set the range for the choropleth\n",
    "vmin, vmax = 0, 3500\n",
    "\n",
    "# create figure and axes for Matplotlib\n",
    "fig, ax = plt.subplots(1, figsize=(10, 6))\n",
    "\n",
    "# create map\n",
    "merged_vitc.plot(column=variable, cmap='YlGnBu', linewidth=0.5, ax=ax, edgecolor='0.0')\n",
    "\n",
    "# Now we can customise and add annotations\n",
    "\n",
    "# remove the axis\n",
    "ax.axis('off')\n",
    "\n",
    "# add a title\n",
    "ax.set_title('Actual Vitamin C Consumption per Household', \\\n",
    "              fontdict={'fontsize': '20',\n",
    "                        'fontweight' : '3'})\n",
    "\n",
    "ax.set_facecolor('w')\n",
    "\n",
    "# create an annotation for the  data source\n",
    "ax.annotate('Sources: http://www.microdata.gov.in/NADA43/index.php/catalog/126/related_materials (Statistics)\\nMIT GeoWeb Data (ESRI Shapefile)',\n",
    "           xy=(0.1, .08), xycoords='figure fraction',\n",
    "           horizontalalignment='left', verticalalignment='top',\n",
    "           fontsize=10, color='#555555')\n",
    "\n",
    "# Create colorbar as a legend\n",
    "sm = plt.cm.ScalarMappable(cmap='YlGnBu', norm=plt.Normalize(vmin=vmin, vmax=vmax))\n",
    "sm._A = []\n",
    "comma_fmt = FuncFormatter(lambda x, p: format(int(x), ','))\n",
    "cbar = fig.colorbar(sm, format=comma_fmt)\n",
    "#cbar.ax.set_title('Thousands') #for horizontal label\n",
    "cbar.set_label('Vitamin C (mg per month)')\n",
    "\n",
    "# this will save the figure as a high-res png. \n",
    "fig.savefig('vitaminc_actual.png', dpi=600, facecolor='white', transparent=False)"
   ]
  },
  {
   "cell_type": "markdown",
   "metadata": {},
   "source": []
  }
 ],
 "metadata": {
  "kernelspec": {
   "display_name": "Python 3 (ipykernel)",
   "language": "python",
   "name": "python3"
  },
  "language_info": {
   "codemirror_mode": {
    "name": "ipython",
    "version": 3
   },
   "file_extension": ".py",
   "mimetype": "text/x-python",
   "name": "python",
   "nbconvert_exporter": "python",
   "pygments_lexer": "ipython3",
   "version": "3.9.12"
  }
 },
 "nbformat": 4,
 "nbformat_minor": 2
}
