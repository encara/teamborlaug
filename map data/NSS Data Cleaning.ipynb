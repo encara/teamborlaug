{
 "cells": [
  {
   "cell_type": "markdown",
   "id": "65b309b8",
   "metadata": {},
   "source": [
    "# NSS Data Cleaning\n",
    "\n",
    "This notebook is to take the data provided by the Indian government and filter it, primarily to provide a map from households to districts within the state of Bihar."
   ]
  },
  {
   "cell_type": "code",
   "execution_count": 7,
   "id": "094fcff6",
   "metadata": {},
   "outputs": [
    {
     "name": "stdout",
     "output_type": "stream",
     "text": [
      "Requirement already satisfied: pandas in /opt/conda/lib/python3.9/site-packages (1.3.5)\n",
      "Requirement already satisfied: python-dateutil>=2.7.3 in /opt/conda/lib/python3.9/site-packages (from pandas) (2.8.0)\n",
      "Requirement already satisfied: pytz>=2017.3 in /opt/conda/lib/python3.9/site-packages (from pandas) (2021.1)\n",
      "Requirement already satisfied: numpy>=1.17.3 in /opt/conda/lib/python3.9/site-packages (from pandas) (1.21.5)\n",
      "Requirement already satisfied: six>=1.5 in /opt/conda/lib/python3.9/site-packages (from python-dateutil>=2.7.3->pandas) (1.16.0)\n"
     ]
    }
   ],
   "source": [
    "!pip install pandas\n",
    "import pandas as pd"
   ]
  },
  {
   "cell_type": "code",
   "execution_count": 8,
   "id": "a6174984",
   "metadata": {},
   "outputs": [],
   "source": [
    "df = pd.read_stata('Household characteristics - Block 3 - Level2 - type2 - 68.dta')"
   ]
  },
  {
   "cell_type": "code",
   "execution_count": 10,
   "id": "ee58f2f5",
   "metadata": {},
   "outputs": [
    {
     "data": {
      "text/plain": [
       "0         715581201\n",
       "1         715581202\n",
       "2         715581203\n",
       "3         715581204\n",
       "4         715581301\n",
       "            ...    \n",
       "101646    454191104\n",
       "101647    454191201\n",
       "101648    454191202\n",
       "101649    454191203\n",
       "101650    454191204\n",
       "Name: HHID, Length: 101651, dtype: object"
      ]
     },
     "execution_count": 10,
     "metadata": {},
     "output_type": "execute_result"
    }
   ],
   "source": [
    "df['HHID']"
   ]
  },
  {
   "cell_type": "markdown",
   "id": "fc14e5ea",
   "metadata": {},
   "source": [
    "### `dem_filter`\n",
    "\n",
    "The `dem_filter` function takes the nss data, a list of attributes, and a district mapping, and returns a filtered, subsetted, and coded df for the given state. Codes used for household types, religion, and social class are from the NSS documentation."
   ]
  },
  {
   "cell_type": "code",
   "execution_count": 11,
   "id": "a9e63d3a",
   "metadata": {},
   "outputs": [],
   "source": [
    "def dem_filter(state_id, columns, district_map, df):\n",
    "    \n",
    "    # filter for state and selected columns\n",
    "    # new = df.set_index('HHID')\n",
    "    new = df[df['State_code'] == state_id]\n",
    "    new = df[columns]\n",
    "    \n",
    "    # map districts\n",
    "    new['District_map'] = new['District'].map(district_map)\n",
    "    new = new.drop(['District'], axis=1)\n",
    "    new.rename({'District_map': 'District'}, axis=1, inplace=True)\n",
    "    \n",
    "    # map household types \n",
    "    new['rural_urban'] = new['Sector'].map({'1':'rural','2':'urban'})\n",
    "    new= new.drop(['Sector'], axis=1)\n",
    "    \n",
    "    # map religion\n",
    "    new['Religion_map'] = new['Religion'].map({'1':'Hinduism','2':'Islam',\n",
    "                                                                   '3':'Christianity','4':'Sikhism',\n",
    "                                                                   '5':'Jainism','6':'Buddhism',\n",
    "                                                                   '7':'Zoroastrianism','9':'Others'})\n",
    "    new = new.drop(['Religion'], axis=1)\n",
    "    new.rename({'Religion_map': 'Religion'}, axis=1, inplace=True)\n",
    "    \n",
    "    return new"
   ]
  },
  {
   "cell_type": "code",
   "execution_count": 12,
   "id": "039e6625",
   "metadata": {},
   "outputs": [
    {
     "name": "stderr",
     "output_type": "stream",
     "text": [
      "/tmp/ipykernel_185/2750751619.py:9: SettingWithCopyWarning: \n",
      "A value is trying to be set on a copy of a slice from a DataFrame.\n",
      "Try using .loc[row_indexer,col_indexer] = value instead\n",
      "\n",
      "See the caveats in the documentation: https://pandas.pydata.org/pandas-docs/stable/user_guide/indexing.html#returning-a-view-versus-a-copy\n",
      "  new['District_map'] = new['District'].map(district_map)\n"
     ]
    }
   ],
   "source": [
    "state_id = 10\n",
    "\n",
    "columns = ['HHID','District','hh_size','Religion', 'Sector']\n",
    "\n",
    "district_map = {'01':'Pashchim Champaran','02':'Purba Champaran','03':'Sheohar','04':'Sitamarhi','05':'Madhubani','06':'Supaul',\n",
    "             '07':'Araria','08':'Kishanganj','09':'Purnia','10':'Katihar','11':'Madhepura','12':'Saharsa',\n",
    "             '13':'Darbhanga','14':'Muzaffarpur','15':'Gopalganj','16':'Siwan','17':'Saran','18':'Vaishali',\n",
    "             '19':'Samastipur','20':'Begusarai','21':'Khagaria','22':'Bhagalpur','23':'Banka','24':'Munger',\n",
    "             '25':'Lakhisarai','26':'Sheikhpura','27':'Nalanda','28':'Patna','29':'Bhojpur','30':'Buxar','31':'Kaimur (Bhabua)',\n",
    "             '32':'Rohtas','33':'Aurangabad','34':'Gaya','35':'Nawada','36':'Jamui','37':'Jehanabad','38':'Arwal'}\n",
    "\n",
    "df = dem_filter(state_id, columns, district_map, df)"
   ]
  },
  {
   "cell_type": "code",
   "execution_count": 13,
   "id": "d7fac487",
   "metadata": {},
   "outputs": [
    {
     "data": {
      "text/html": [
       "<div>\n",
       "<style scoped>\n",
       "    .dataframe tbody tr th:only-of-type {\n",
       "        vertical-align: middle;\n",
       "    }\n",
       "\n",
       "    .dataframe tbody tr th {\n",
       "        vertical-align: top;\n",
       "    }\n",
       "\n",
       "    .dataframe thead th {\n",
       "        text-align: right;\n",
       "    }\n",
       "</style>\n",
       "<table border=\"1\" class=\"dataframe\">\n",
       "  <thead>\n",
       "    <tr style=\"text-align: right;\">\n",
       "      <th></th>\n",
       "      <th>HHID</th>\n",
       "      <th>hh_size</th>\n",
       "      <th>District</th>\n",
       "      <th>rural_urban</th>\n",
       "      <th>Religion</th>\n",
       "    </tr>\n",
       "  </thead>\n",
       "  <tbody>\n",
       "    <tr>\n",
       "      <th>0</th>\n",
       "      <td>715581201</td>\n",
       "      <td>5</td>\n",
       "      <td>Pashchim Champaran</td>\n",
       "      <td>rural</td>\n",
       "      <td>Christianity</td>\n",
       "    </tr>\n",
       "    <tr>\n",
       "      <th>1</th>\n",
       "      <td>715581202</td>\n",
       "      <td>2</td>\n",
       "      <td>Pashchim Champaran</td>\n",
       "      <td>rural</td>\n",
       "      <td>Christianity</td>\n",
       "    </tr>\n",
       "    <tr>\n",
       "      <th>2</th>\n",
       "      <td>715581203</td>\n",
       "      <td>2</td>\n",
       "      <td>Pashchim Champaran</td>\n",
       "      <td>rural</td>\n",
       "      <td>Christianity</td>\n",
       "    </tr>\n",
       "    <tr>\n",
       "      <th>3</th>\n",
       "      <td>715581204</td>\n",
       "      <td>1</td>\n",
       "      <td>Pashchim Champaran</td>\n",
       "      <td>rural</td>\n",
       "      <td>Christianity</td>\n",
       "    </tr>\n",
       "    <tr>\n",
       "      <th>4</th>\n",
       "      <td>715581301</td>\n",
       "      <td>6</td>\n",
       "      <td>Pashchim Champaran</td>\n",
       "      <td>rural</td>\n",
       "      <td>Christianity</td>\n",
       "    </tr>\n",
       "    <tr>\n",
       "      <th>...</th>\n",
       "      <td>...</td>\n",
       "      <td>...</td>\n",
       "      <td>...</td>\n",
       "      <td>...</td>\n",
       "      <td>...</td>\n",
       "    </tr>\n",
       "    <tr>\n",
       "      <th>101646</th>\n",
       "      <td>454191104</td>\n",
       "      <td>4</td>\n",
       "      <td>Sitamarhi</td>\n",
       "      <td>urban</td>\n",
       "      <td>Hinduism</td>\n",
       "    </tr>\n",
       "    <tr>\n",
       "      <th>101647</th>\n",
       "      <td>454191201</td>\n",
       "      <td>6</td>\n",
       "      <td>Sitamarhi</td>\n",
       "      <td>urban</td>\n",
       "      <td>Islam</td>\n",
       "    </tr>\n",
       "    <tr>\n",
       "      <th>101648</th>\n",
       "      <td>454191202</td>\n",
       "      <td>3</td>\n",
       "      <td>Sitamarhi</td>\n",
       "      <td>urban</td>\n",
       "      <td>Hinduism</td>\n",
       "    </tr>\n",
       "    <tr>\n",
       "      <th>101649</th>\n",
       "      <td>454191203</td>\n",
       "      <td>7</td>\n",
       "      <td>Sitamarhi</td>\n",
       "      <td>urban</td>\n",
       "      <td>Islam</td>\n",
       "    </tr>\n",
       "    <tr>\n",
       "      <th>101650</th>\n",
       "      <td>454191204</td>\n",
       "      <td>9</td>\n",
       "      <td>Sitamarhi</td>\n",
       "      <td>urban</td>\n",
       "      <td>Islam</td>\n",
       "    </tr>\n",
       "  </tbody>\n",
       "</table>\n",
       "<p>101651 rows × 5 columns</p>\n",
       "</div>"
      ],
      "text/plain": [
       "             HHID hh_size            District rural_urban      Religion\n",
       "0       715581201       5  Pashchim Champaran       rural  Christianity\n",
       "1       715581202       2  Pashchim Champaran       rural  Christianity\n",
       "2       715581203       2  Pashchim Champaran       rural  Christianity\n",
       "3       715581204       1  Pashchim Champaran       rural  Christianity\n",
       "4       715581301       6  Pashchim Champaran       rural  Christianity\n",
       "...           ...     ...                 ...         ...           ...\n",
       "101646  454191104       4           Sitamarhi       urban      Hinduism\n",
       "101647  454191201       6           Sitamarhi       urban         Islam\n",
       "101648  454191202       3           Sitamarhi       urban      Hinduism\n",
       "101649  454191203       7           Sitamarhi       urban         Islam\n",
       "101650  454191204       9           Sitamarhi       urban         Islam\n",
       "\n",
       "[101651 rows x 5 columns]"
      ]
     },
     "execution_count": 13,
     "metadata": {},
     "output_type": "execute_result"
    }
   ],
   "source": [
    "df"
   ]
  },
  {
   "cell_type": "code",
   "execution_count": 14,
   "id": "d41b5d00",
   "metadata": {},
   "outputs": [],
   "source": [
    "df.to_csv('nss_bihar.csv', index=True)"
   ]
  }
 ],
 "metadata": {
  "kernelspec": {
   "display_name": "Python 3 (ipykernel)",
   "language": "python",
   "name": "python3"
  },
  "language_info": {
   "codemirror_mode": {
    "name": "ipython",
    "version": 3
   },
   "file_extension": ".py",
   "mimetype": "text/x-python",
   "name": "python",
   "nbconvert_exporter": "python",
   "pygments_lexer": "ipython3",
   "version": "3.9.12"
  }
 },
 "nbformat": 4,
 "nbformat_minor": 5
}
